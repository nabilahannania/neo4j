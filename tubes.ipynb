{
 "cells": [
  {
   "cell_type": "markdown",
   "metadata": {},
   "source": [
    "# Install"
   ]
  },
  {
   "cell_type": "code",
   "execution_count": null,
   "metadata": {},
   "outputs": [],
   "source": [
    "# !pip install neo4j-driver\n",
    "# !pip install gradio"
   ]
  },
  {
   "cell_type": "markdown",
   "metadata": {},
   "source": [
    "# Imports"
   ]
  },
  {
   "cell_type": "code",
   "execution_count": 62,
   "metadata": {},
   "outputs": [],
   "source": [
    "from neo4j import GraphDatabase\n",
    "import gradio as gr\n",
    "import re"
   ]
  },
  {
   "cell_type": "markdown",
   "metadata": {},
   "source": [
    "# Connect to Neo4J"
   ]
  },
  {
   "cell_type": "code",
   "execution_count": 218,
   "metadata": {},
   "outputs": [],
   "source": [
    "driver = GraphDatabase.driver(uri=\"bolt://localhost:7687\", \n",
    "                              auth=(\"neo4j\", \"password\"))"
   ]
  },
  {
   "cell_type": "markdown",
   "metadata": {},
   "source": [
    "# Functions"
   ]
  },
  {
   "cell_type": "code",
   "execution_count": 219,
   "metadata": {},
   "outputs": [],
   "source": [
    "def extract_title(question, type):\n",
    "    # Define the regex pattern to match the title\n",
    "    if type == \"cast\":\n",
    "        pattern = r\"(?i)siapa(?:kah)? pemain(?:\\s+\\w+)* (?:drama|series) (.+?)[\\?\\.]\"\n",
    "    elif type == \"genre\" :\n",
    "        pattern = r\"(?i)series\\s+(.+?)\\s+memiliki\\s+genre\"\n",
    "    elif type == \"director\" :\n",
    "        pattern = r\"(?i)siapa(?:kah)? sutradara(?:\\s+\\w+)* (?:drama|series) (.+?)[\\?\\.]\"\n",
    "    elif type == \"citizen\" :\n",
    "        pattern = r\"(?i)apa warga negara(?:\\s+\\w+)* pemain (?:drama|series) (.+?)[\\?\\.]\"\n",
    "    \n",
    "    # Search for the pattern in the question\n",
    "    match = re.search(pattern, question, re.IGNORECASE)\n",
    "    \n",
    "    # If a match is found, return the matched group (title)\n",
    "    if match:\n",
    "        return match.group(1).strip()\n",
    "    else:\n",
    "        return None\n",
    "    \n",
    "def get_number(question):\n",
    "    # Define the regex pattern to match numbers\n",
    "    pattern = r'\\b\\d+\\b'  # Matches one or more digits surrounded by word boundaries\n",
    "\n",
    "    # Search for the pattern in the input string\n",
    "    matches = re.findall(pattern, question)\n",
    "\n",
    "    # Extract the first match as X value\n",
    "    if matches:\n",
    "        X = int(matches[0])\n",
    "        return X\n",
    "    else:\n",
    "        print(\"No number found in the input string.\")\n",
    "        return None"
   ]
  },
  {
   "cell_type": "code",
   "execution_count": 220,
   "metadata": {},
   "outputs": [],
   "source": [
    "def get_query(find_keys, question):\n",
    "    # Siapakah pemain dalam series X?\n",
    "    if all(key in find_keys for key in [\"siapa\", \"pemain\"]):\n",
    "        title = extract_title(question, \"cast\")\n",
    "        print(title)\n",
    "        if title != None:\n",
    "         return(f\"MATCH (s)-[:HAS_CAST]->(c) WHERE s.name = '{title}' RETURN c.label AS cast\", [\"cast\"])\n",
    "    \n",
    "    #Series X memiliki genre apa?\n",
    "    elif all(key in find_keys for key in [\"genre\"]):\n",
    "        title = extract_title(question, \"genre\")\n",
    "        print(title)\n",
    "        if title != None:\n",
    "         return(f\"MATCH (s)-[:HAS_GENRE]->(g) WHERE s.name = '{title}' RETURN g.label AS genre\", [\"genre\"])\n",
    "        \n",
    "    #Siapa sutradara (director) dari series X?\n",
    "    elif all(key in find_keys for key in [\"siapa\", \"sutradara\"]):\n",
    "        title = extract_title(question, \"director\")\n",
    "        print(title)\n",
    "        if title != None:\n",
    "         return(f\"MATCH (s)-[:HAS_DIRECTOR]->(d) WHERE s.name = '{title}' RETURN d.label AS director_name\", [\"director_name\"])\n",
    "        \n",
    "    # Apa warga negara dari pemain series X?\n",
    "    elif all(key in find_keys for key in [\"pemain\", \"warga negara\"]):\n",
    "        title = extract_title(question, \"citizen\")\n",
    "        print(title)\n",
    "        if title != None:\n",
    "         return(f\"MATCH (s)-[:HAS_CAST]->(c)-[CITIZENSHIP]->(cs) WHERE s.name = '{title}' RETURN c.label AS cast, cs.label AS warga_negara\", [\"cast\", \"warga_negara\"])\n",
    "       \n",
    "    # Series yang memiliki jumlah episode lebih dari/kurang dari/(sama dengan) X?\n",
    "    elif all(key in find_keys for key in [\"episode\"]):\n",
    "       num_ep = get_number(question)\n",
    "       if all(key in find_keys for key in [\"lebih\"]):\n",
    "          return(f\"MATCH (s) WHERE s.NUM_OF_EPS > {num_ep} RETURN s.name AS series\", [\"series\"])\n",
    "       elif all(key in find_keys for key in [\"kurang\"]):\n",
    "          return(f\"MATCH (s) WHERE s.NUM_OF_EPS < {num_ep} RETURN s.name AS series\", [\"series\"])\n",
    "       else:\n",
    "          return(f\"MATCH (s) WHERE s.NUM_OF_EPS = {num_ep} RETURN s.name AS series\", [\"series\"])\n",
    "    print(\"no matching!\")\n",
    "    return None"
   ]
  },
  {
   "cell_type": "code",
   "execution_count": 221,
   "metadata": {},
   "outputs": [],
   "source": [
    "def get_answer(question):\n",
    "    # cari kata kunci\n",
    "    keys = [\"siapa\", \"pemain\", \"genre\", \"sutradara\", \"warga negara\", \"episode\", \"kurang\", \"lebih\"]\n",
    "    find_keys = []\n",
    "    for key in keys:\n",
    "        # print(key)\n",
    "        if key in question.lower() :\n",
    "             find_keys.append(key)\n",
    "         \n",
    "\n",
    "    print(find_keys)\n",
    "    # query yang terpilih berdasarkan kata kunci\n",
    "    query, out = get_query(find_keys, question)\n",
    "    \n",
    "    # run query\n",
    "    if query != None:\n",
    "        with driver.session(database=\"tvseries\") as session:\n",
    "            result = session.run(query)\n",
    "            # print(result[0])\n",
    "            str = \"\"\n",
    "            for record in result:\n",
    "                    for label in out:\n",
    "                        str += f\"{label}: {record[label]} \\n\"\n",
    "            return str\n",
    "    else: \n",
    "         print(\"Not Recognize\")\n"
   ]
  },
  {
   "cell_type": "code",
   "execution_count": 222,
   "metadata": {},
   "outputs": [
    {
     "name": "stdout",
     "output_type": "stream",
     "text": [
      "['episode', 'lebih']\n"
     ]
    },
    {
     "data": {
      "text/plain": [
       "\"series: The Game \\nseries: Whose Line Is It Anyway? \\nseries: Saturday Night Live \\nseries: Hotel 13 \\nseries: The Sullivans \\nseries: Nashville \\nseries: The Brady Bunch \\nseries: Pretty Little Liars \\nseries: I Love Lucy \\nseries: The Bold and the Beautiful \\nseries: Melissa & Joey \\nseries: ER \\nseries: Everybody Loves Raymond \\nseries: Psych \\nseries: M jak miłość \\nseries: The X-Files \\nseries: Grimm \\nseries: Afterworld \\nseries: The Waltons \\nseries: Gunsmoke \\nseries: That '70s Show \\nseries: Walker, Texas Ranger \\nseries: Angel \\nseries: Glukhar \\nseries: Will & Grace \\nseries: Na Wspólnej \\nseries: La que se avecina \\nseries: Magnum, P.I. \\nseries: Wizards of Waverly Place \\nseries: Sasural Simar Ka \\nseries: Days of Our Lives \\nseries: Brothers & Sisters \\nseries: New Tricks \\nseries: Chespirito \\nseries: Late Night with David Letterman \\nseries: Shadow Warriors \\nseries: The Big Bang Theory \\nseries: Klan \\nseries: Yo! MTV Raps \\n\""
      ]
     },
     "execution_count": 222,
     "metadata": {},
     "output_type": "execute_result"
    }
   ],
   "source": [
    "get_answer(\"Series yang memiliki jumlah episode lebih dari 100\")"
   ]
  },
  {
   "cell_type": "markdown",
   "metadata": {},
   "source": [
    "# Interface"
   ]
  },
  {
   "cell_type": "code",
   "execution_count": 121,
   "metadata": {},
   "outputs": [],
   "source": [
    "def chatbot(input, history=[]):\n",
    "    output = get_answer(input)\n",
    "    history.append((input, output))\n",
    "    return history, history"
   ]
  },
  {
   "cell_type": "code",
   "execution_count": 122,
   "metadata": {},
   "outputs": [
    {
     "name": "stdout",
     "output_type": "stream",
     "text": [
      "Running on local URL:  http://127.0.0.1:7860\n",
      "\n",
      "To create a public link, set `share=True` in `launch()`.\n"
     ]
    },
    {
     "data": {
      "text/html": [
       "<div><iframe src=\"http://127.0.0.1:7860/\" width=\"100%\" height=\"500\" allow=\"autoplay; camera; microphone; clipboard-read; clipboard-write;\" frameborder=\"0\" allowfullscreen></iframe></div>"
      ],
      "text/plain": [
       "<IPython.core.display.HTML object>"
      ]
     },
     "metadata": {},
     "output_type": "display_data"
    },
    {
     "name": "stdout",
     "output_type": "stream",
     "text": [
      "siapa\n",
      "pemain\n",
      "['siapa', 'pemain']\n",
      "B\n",
      "siapa\n",
      "pemain\n",
      "['siapa', 'pemain']\n",
      "B\n",
      "siapa\n",
      "pemain\n",
      "['siapa', 'pemain']\n",
      "B\n",
      "Keyboard interruption in main thread... closing server.\n"
     ]
    },
    {
     "data": {
      "text/plain": []
     },
     "execution_count": 122,
     "metadata": {},
     "output_type": "execute_result"
    }
   ],
   "source": [
    "gr.Interface(fn = chatbot,\n",
    "             inputs = [\"text\",'state'],\n",
    "             outputs = [\"chatbot\",'state']).launch(debug = True)"
   ]
  },
  {
   "cell_type": "code",
   "execution_count": 217,
   "metadata": {},
   "outputs": [],
   "source": [
    "driver.close()"
   ]
  }
 ],
 "metadata": {
  "kernelspec": {
   "display_name": "base",
   "language": "python",
   "name": "python3"
  },
  "language_info": {
   "codemirror_mode": {
    "name": "ipython",
    "version": 3
   },
   "file_extension": ".py",
   "mimetype": "text/x-python",
   "name": "python",
   "nbconvert_exporter": "python",
   "pygments_lexer": "ipython3",
   "version": "3.11.6"
  }
 },
 "nbformat": 4,
 "nbformat_minor": 2
}
